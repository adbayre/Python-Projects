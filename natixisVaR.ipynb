{
 "cells": [
  {
   "cell_type": "markdown",
   "id": "3ee7583a",
   "metadata": {},
   "source": [
    "# TD 1 MARKET RISK\n",
    "\n",
    "### Exercise 2, question 1:"
   ]
  },
  {
   "cell_type": "code",
   "execution_count": 3,
   "id": "d666aba6",
   "metadata": {},
   "outputs": [],
   "source": [
    "import yfinance as yf\n",
    "import pandas as pd\n",
    "import numpy as np"
   ]
  },
  {
   "cell_type": "markdown",
   "id": "fe131384",
   "metadata": {},
   "source": [
    "First, we load and format the data:"
   ]
  },
  {
   "cell_type": "code",
   "execution_count": null,
   "id": "943daae8",
   "metadata": {},
   "outputs": [
    {
     "data": {
      "text/html": [
       "<div>\n",
       "<style scoped>\n",
       "    .dataframe tbody tr th:only-of-type {\n",
       "        vertical-align: middle;\n",
       "    }\n",
       "\n",
       "    .dataframe tbody tr th {\n",
       "        vertical-align: top;\n",
       "    }\n",
       "\n",
       "    .dataframe thead th {\n",
       "        text-align: right;\n",
       "    }\n",
       "</style>\n",
       "<table border=\"1\" class=\"dataframe\">\n",
       "  <thead>\n",
       "    <tr style=\"text-align: right;\">\n",
       "      <th></th>\n",
       "      <th>Price</th>\n",
       "    </tr>\n",
       "    <tr>\n",
       "      <th>Date</th>\n",
       "      <th></th>\n",
       "    </tr>\n",
       "  </thead>\n",
       "  <tbody>\n",
       "    <tr>\n",
       "      <th>2015-01-02</th>\n",
       "      <td>5.621</td>\n",
       "    </tr>\n",
       "    <tr>\n",
       "      <th>2015-01-05</th>\n",
       "      <td>5.424</td>\n",
       "    </tr>\n",
       "    <tr>\n",
       "      <th>2015-01-06</th>\n",
       "      <td>5.329</td>\n",
       "    </tr>\n",
       "    <tr>\n",
       "      <th>2015-01-07</th>\n",
       "      <td>5.224</td>\n",
       "    </tr>\n",
       "    <tr>\n",
       "      <th>2015-01-08</th>\n",
       "      <td>5.453</td>\n",
       "    </tr>\n",
       "  </tbody>\n",
       "</table>\n",
       "</div>"
      ],
      "text/plain": [
       "            Price\n",
       "Date             \n",
       "2015-01-02  5.621\n",
       "2015-01-05  5.424\n",
       "2015-01-06  5.329\n",
       "2015-01-07  5.224\n",
       "2015-01-08  5.453"
      ]
     },
     "execution_count": 2,
     "metadata": {},
     "output_type": "execute_result"
    }
   ],
   "source": [
    "# Open and read the Natixis stock data\n",
    "with open('natixis_stock_ts_td1.txt', 'r', encoding='utf-8') as file:\n",
    "    lines = file.readlines() \n",
    "\n",
    "dates = [] # Initiate a date array\n",
    "prices = [] # Initiate a prices array\n",
    "\n",
    "for line in lines:\n",
    "    line = line.strip()\n",
    "    if line:\n",
    "        # Split char is a space\n",
    "        date, price = line.split('\\t')\n",
    "        dates.append(date)\n",
    "        prices.append(price)\n",
    "\n",
    "data = {'Date':dates, 'Price':prices}\n",
    "df = pd.DataFrame(data)\n",
    "df['Price'] = df['Price'].str.replace(',', '.').astype(float) # Correct formatting for prices\n",
    "df['Date'] = pd.to_datetime(df['Date'], format = '%d/%m/%Y') # Correct formatting for dates\n",
    "\n",
    "# `Date` is the index, `Price` is the column\n",
    "df.set_index('Date', inplace = True)\n",
    "\n",
    "# Set begin and end dates\n",
    "start_date = pd.to_datetime('01/01/2015', format = '%d/%m/%Y')\n",
    "end_date = pd.to_datetime('31/12/2016', format = '%d/%m/%Y')\n",
    "\n",
    "df = df.loc[start_date : end_date]\n",
    "df.head()"
   ]
  },
  {
   "cell_type": "code",
   "execution_count": 10,
   "id": "143ddbd0",
   "metadata": {},
   "outputs": [
    {
     "name": "stdout",
     "output_type": "stream",
     "text": [
      "Empirical VaR(95.00%): -0.038408819466457716\n"
     ]
    }
   ],
   "source": [
    "# Calculate the daily returns\n",
    "df['Return'] = df['Price'].pct_change() # pct_change => current - previous / previous prices\n",
    "df = df.iloc[1:]\n",
    "alpha = 0.05 # Customizable value\n",
    "var = df['Return'].quantile(alpha)\n",
    "print(f\"Empirical VaR({(1 - alpha) * 100:.2f}%): {var}\")"
   ]
  }
 ],
 "metadata": {
  "kernelspec": {
   "display_name": "base",
   "language": "python",
   "name": "python3"
  },
  "language_info": {
   "codemirror_mode": {
    "name": "ipython",
    "version": 3
   },
   "file_extension": ".py",
   "mimetype": "text/x-python",
   "name": "python",
   "nbconvert_exporter": "python",
   "pygments_lexer": "ipython3",
   "version": "3.12.3"
  }
 },
 "nbformat": 4,
 "nbformat_minor": 5
}
